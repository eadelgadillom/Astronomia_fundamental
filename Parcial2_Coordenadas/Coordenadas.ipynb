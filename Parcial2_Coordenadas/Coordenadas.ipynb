{
 "cells": [
  {
   "cell_type": "markdown",
   "id": "6f1415ba",
   "metadata": {},
   "source": [
    "LST: https://sidereal.app/calculate\n",
    "\n",
    "Elevation: https://www.geonames.org/maps/google_4.63972_-74.08335.html"
   ]
  },
  {
   "cell_type": "code",
   "execution_count": 56,
   "id": "b70dea3f",
   "metadata": {
    "ExecuteTime": {
     "end_time": "2023-09-30T02:57:42.119862Z",
     "start_time": "2023-09-30T02:57:42.053057Z"
    }
   },
   "outputs": [
    {
     "data": {
      "text/latex": [
       "$19^{\\mathrm{h}}33^{\\mathrm{m}}40.43450912^{\\mathrm{s}}$"
      ],
      "text/plain": [
       "<Longitude 19.56123181 hourangle>"
      ]
     },
     "execution_count": 56,
     "metadata": {},
     "output_type": "execute_result"
    }
   ],
   "source": [
    "from astropy.time import Time\n",
    "from astropy.coordinates import solar_system_ephemeris, EarthLocation, get_body, AltAz\n",
    "\n",
    "\n",
    "\n",
    "## Usar Jet Propulsion Laboratory\n",
    "solar_system_ephemeris.set('jpl')\n",
    "\n",
    "\n",
    "## Cuerpos a estudiar\n",
    "bodies = ('sun', 'mercury', 'venus', 'moon', 'mars', 'jupiter', 'saturn', 'uranus', 'neptune')\n",
    "bodies_dict = {key:0 for key in bodies}\n",
    "\n",
    "\n",
    "## Condiciones de observacion\n",
    "observation_pos = EarthLocation.from_geodetic(lon=-74.08334, lat=4.63972, height=2555) # Coordenadas de obs\n",
    "observation_time = Time(\"2023-09-29 00:00\", scale='utc') # Tiempo de observacion\n",
    "observation_time_aux = Time(\"2023-09-29 00:00\", location=observation_pos, scale='utc')\n",
    "LST = observation_time_aux.sidereal_time('mean')\n",
    "\n",
    "\n",
    "for planet in bodies_dict:\n",
    "    body = get_body(planet, observation_time, location=None) ## None implies Geocentric observer\n",
    "    bodies_dict[planet] = body\n",
    "    \n",
    "LST"
   ]
  },
  {
   "cell_type": "code",
   "execution_count": 61,
   "id": "195b80bc",
   "metadata": {},
   "outputs": [
    {
     "data": {
      "text/plain": [
       "<SkyCoord (GCRS: obstime=2023-09-29 00:00:00.000, obsgeoloc=(0., 0., 0.) m, obsgeovel=(0., 0., 0.) m / s): (ra, dec, distance) in (deg, deg, km)\n",
       "    (0.42190985, -2.25115457, 360716.55289385)>"
      ]
     },
     "execution_count": 61,
     "metadata": {},
     "output_type": "execute_result"
    }
   ],
   "source": [
    "xd = bodies_dict['moon']\n",
    "xd.transform_to(AltAz(obstime = observation_time, location = observation_pos))\n",
    "xd"
   ]
  },
  {
   "cell_type": "code",
   "execution_count": 51,
   "id": "d3335b8a",
   "metadata": {
    "ExecuteTime": {
     "end_time": "2023-09-30T02:57:30.271482Z",
     "start_time": "2023-09-30T02:57:30.268099Z"
    }
   },
   "outputs": [
    {
     "name": "stdout",
     "output_type": "stream",
     "text": [
      "sun \t <SkyCoord (GCRS: obstime=2023-09-29 00:00:00.000, obsgeoloc=(0., 0., 0.) m, obsgeovel=(0., 0., 0.) m / s): (ra, dec, distance) in (deg, deg, km)\n",
      "    (184.83749793, -2.09322672, 1.49891535e+08)> \n",
      "\n",
      "\n",
      "mercury \t <SkyCoord (GCRS: obstime=2023-09-29 00:00:00.000, obsgeoloc=(0., 0., 0.) m, obsgeovel=(0., 0., 0.) m / s): (ra, dec, distance) in (deg, deg, km)\n",
      "    (171.1030171, 5.72025789, 1.68157927e+08)> \n",
      "\n",
      "\n",
      "venus \t <SkyCoord (GCRS: obstime=2023-09-29 00:00:00.000, obsgeoloc=(0., 0., 0.) m, obsgeovel=(0., 0., 0.) m / s): (ra, dec, distance) in (deg, deg, km)\n",
      "    (143.11060773, 11.14244968, 76051262.70216498)> \n",
      "\n",
      "\n",
      "moon \t <SkyCoord (GCRS: obstime=2023-09-29 00:00:00.000, obsgeoloc=(0., 0., 0.) m, obsgeovel=(0., 0., 0.) m / s): (ra, dec, distance) in (deg, deg, km)\n",
      "    (0.42190985, -2.25115457, 360716.55289385)> \n",
      "\n",
      "\n",
      "mars \t <SkyCoord (GCRS: obstime=2023-09-29 00:00:00.000, obsgeoloc=(0., 0., 0.) m, obsgeovel=(0., 0., 0.) m / s): (ra, dec, distance) in (deg, deg, km)\n",
      "    (199.39869332, -7.78684113, 3.79907299e+08)> \n",
      "\n",
      "\n",
      "jupiter \t <SkyCoord (GCRS: obstime=2023-09-29 00:00:00.000, obsgeoloc=(0., 0., 0.) m, obsgeovel=(0., 0., 0.) m / s): (ra, dec, distance) in (deg, deg, km)\n",
      "    (42.23546516, 14.78545277, 6.20897898e+08)> \n",
      "\n",
      "\n",
      "saturn \t <SkyCoord (GCRS: obstime=2023-09-29 00:00:00.000, obsgeoloc=(0., 0., 0.) m, obsgeovel=(0., 0., 0.) m / s): (ra, dec, distance) in (deg, deg, km)\n",
      "    (333.93645872, -12.69614817, 1.33410274e+09)> \n",
      "\n",
      "\n",
      "uranus \t <SkyCoord (GCRS: obstime=2023-09-29 00:00:00.000, obsgeoloc=(0., 0., 0.) m, obsgeovel=(0., 0., 0.) m / s): (ra, dec, distance) in (deg, deg, km)\n",
      "    (50.03617343, 18.04715687, 2.83223296e+09)> \n",
      "\n",
      "\n",
      "neptune \t <SkyCoord (GCRS: obstime=2023-09-29 00:00:00.000, obsgeoloc=(0., 0., 0.) m, obsgeovel=(0., 0., 0.) m / s): (ra, dec, distance) in (deg, deg, km)\n",
      "    (356.54273421, -2.88879338, 4.32606334e+09)> \n",
      "\n",
      "\n"
     ]
    }
   ],
   "source": [
    "for planet in bodies_dict:\n",
    "    xd = bodies_dict[planet]\n",
    "    print(planet, \"\\t\", xd, \"\\n\\n\")"
   ]
  },
  {
   "cell_type": "code",
   "execution_count": 22,
   "id": "ac61aed3",
   "metadata": {
    "ExecuteTime": {
     "end_time": "2023-09-30T02:45:00.491741Z",
     "start_time": "2023-09-30T02:45:00.483158Z"
    }
   },
   "outputs": [
    {
     "data": {
      "text/latex": [
       "$23^{\\mathrm{h}}00^{\\mathrm{m}}53.15596712^{\\mathrm{s}}$"
      ],
      "text/plain": [
       "<Longitude 23.01476555 hourangle>"
      ]
     },
     "execution_count": 22,
     "metadata": {},
     "output_type": "execute_result"
    }
   ],
   "source": [
    "from astropy.coordinates import EarthLocation\n",
    "from astropy.time import Time\n",
    "from astropy import units as u\n",
    "import datetime\n",
    "\n",
    "observing_time = Time(datetime.datetime.utcnow(), scale='utc', location=observation_pos)\n",
    "LST = observing_time.sidereal_time('mean')\n",
    "LST"
   ]
  },
  {
   "cell_type": "code",
   "execution_count": 43,
   "id": "dd6a6644",
   "metadata": {
    "ExecuteTime": {
     "end_time": "2023-09-30T02:38:45.894526Z",
     "start_time": "2023-09-30T02:38:45.891965Z"
    }
   },
   "outputs": [
    {
     "data": {
      "text/plain": [
       "<Time object: scale='utc' format='iso' value=2023-07-09 00:00:00.000>"
      ]
     },
     "execution_count": 43,
     "metadata": {},
     "output_type": "execute_result"
    }
   ],
   "source": [
    "observation_time"
   ]
  },
  {
   "cell_type": "code",
   "execution_count": null,
   "id": "31954b87",
   "metadata": {},
   "outputs": [],
   "source": []
  }
 ],
 "metadata": {
  "kernelspec": {
   "display_name": "Python 3 (ipykernel)",
   "language": "python",
   "name": "python3"
  },
  "language_info": {
   "codemirror_mode": {
    "name": "ipython",
    "version": 3
   },
   "file_extension": ".py",
   "mimetype": "text/x-python",
   "name": "python",
   "nbconvert_exporter": "python",
   "pygments_lexer": "ipython3",
   "version": "3.10.8"
  }
 },
 "nbformat": 4,
 "nbformat_minor": 5
}
