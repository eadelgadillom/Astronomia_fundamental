{
 "cells": [
  {
   "cell_type": "code",
   "execution_count": 4,
   "id": "b70dea3f",
   "metadata": {
    "ExecuteTime": {
     "end_time": "2023-09-30T02:57:42.119862Z",
     "start_time": "2023-09-30T02:57:42.053057Z"
    }
   },
   "outputs": [
    {
     "data": {
      "text/latex": [
       "$14^{\\mathrm{h}}10^{\\mathrm{m}}22.85019439^{\\mathrm{s}}$"
      ],
      "text/plain": [
       "<Longitude 14.17301394 hourangle>"
      ]
     },
     "execution_count": 4,
     "metadata": {},
     "output_type": "execute_result"
    }
   ],
   "source": [
    "from astropy.time import Time\n",
    "from astropy.coordinates import solar_system_ephemeris, EarthLocation, get_body\n",
    "\n",
    "\n",
    "## Usar Jet Propulsion Laboratory\n",
    "solar_system_ephemeris.set('jpl')\n",
    "\n",
    "\n",
    "## Cuerpos a estudiar\n",
    "bodies = ('sun', 'mercury', 'venus', 'moon', 'mars', 'jupiter', 'saturn', 'uranus', 'neptune')\n",
    "bodies_dict = {key:0 for key in bodies}\n",
    "\n",
    "\n",
    "## Condiciones de observacion\n",
    "observation_pos = EarthLocation.from_geodetic(lon=-74.08334, lat=4.63972, height=2555) # Coordenadas de obs\n",
    "observation_time = Time(\"2023-07-09 00:00\", location=observation_pos, scale='utc') # Tiempo de observacion\n",
    "LST = observation_time.sidereal_time('mean')\n",
    "\n",
    "\n",
    "for planet in bodies_dict:\n",
    "    body = get_body(planet, observation_time, location=None) ## None implies Geocentric observer\n",
    "    bodies_dict[planet] = body\n",
    "    \n",
    "LST"
   ]
  },
  {
   "cell_type": "code",
   "execution_count": 7,
   "id": "d3335b8a",
   "metadata": {
    "ExecuteTime": {
     "end_time": "2023-09-30T02:57:30.271482Z",
     "start_time": "2023-09-30T02:57:30.268099Z"
    }
   },
   "outputs": [
    {
     "data": {
      "text/plain": [
       "<SkyCoord (GCRS: obstime=2023-07-09 00:00:00.000, obsgeoloc=(-5374982.14983127, -3397850.10916446, 525015.37751073) m, obsgeovel=(247.77567923, -392.03578916, -0.55045235) m / s): (ra, dec, distance) in (deg, deg, km)\n",
       "    (38.24655796, 13.80541915, 7.90742329e+08)>"
      ]
     },
     "execution_count": 7,
     "metadata": {},
     "output_type": "execute_result"
    }
   ],
   "source": [
    "xd = bodies_dict['jupiter']\n",
    "xd"
   ]
  },
  {
   "cell_type": "code",
   "execution_count": 64,
   "id": "ac61aed3",
   "metadata": {
    "ExecuteTime": {
     "end_time": "2023-09-30T02:45:00.491741Z",
     "start_time": "2023-09-30T02:45:00.483158Z"
    }
   },
   "outputs": [
    {
     "data": {
      "text/latex": [
       "$22^{\\mathrm{h}}23^{\\mathrm{m}}04.58127676^{\\mathrm{s}}$"
      ],
      "text/plain": [
       "<Longitude 22.38460591 hourangle>"
      ]
     },
     "execution_count": 64,
     "metadata": {},
     "output_type": "execute_result"
    }
   ],
   "source": [
    "from astropy.coordinates import EarthLocation\n",
    "from astropy.time import Time\n",
    "from astropy import units as u\n",
    "import datetime\n",
    "\n",
    "observing_time = Time(datetime.datetime.utcnow(), scale='utc', location=observation_pos)\n",
    "LST = observing_time.sidereal_time('mean')\n",
    "LST"
   ]
  },
  {
   "cell_type": "code",
   "execution_count": 43,
   "id": "dd6a6644",
   "metadata": {
    "ExecuteTime": {
     "end_time": "2023-09-30T02:38:45.894526Z",
     "start_time": "2023-09-30T02:38:45.891965Z"
    }
   },
   "outputs": [
    {
     "data": {
      "text/plain": [
       "<Time object: scale='utc' format='iso' value=2023-07-09 00:00:00.000>"
      ]
     },
     "execution_count": 43,
     "metadata": {},
     "output_type": "execute_result"
    }
   ],
   "source": [
    "observation_time"
   ]
  },
  {
   "cell_type": "code",
   "execution_count": null,
   "id": "31954b87",
   "metadata": {},
   "outputs": [],
   "source": []
  }
 ],
 "metadata": {
  "kernelspec": {
   "display_name": "Python 3 (ipykernel)",
   "language": "python",
   "name": "python3"
  },
  "language_info": {
   "codemirror_mode": {
    "name": "ipython",
    "version": 3
   },
   "file_extension": ".py",
   "mimetype": "text/x-python",
   "name": "python",
   "nbconvert_exporter": "python",
   "pygments_lexer": "ipython3",
   "version": "3.10.8"
  }
 },
 "nbformat": 4,
 "nbformat_minor": 5
}
