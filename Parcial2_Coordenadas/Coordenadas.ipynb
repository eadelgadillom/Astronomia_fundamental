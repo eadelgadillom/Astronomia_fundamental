{
 "cells": [
  {
   "cell_type": "markdown",
   "id": "6f1415ba",
   "metadata": {},
   "source": [
    "LST: https://sidereal.app/calculate\n",
    "\n",
    "Elevation: https://www.geonames.org/maps/google_4.63972_-74.08335.html"
   ]
  },
  {
   "cell_type": "code",
   "execution_count": 2,
   "id": "b70dea3f",
   "metadata": {
    "ExecuteTime": {
     "end_time": "2023-09-30T02:57:42.119862Z",
     "start_time": "2023-09-30T02:57:42.053057Z"
    }
   },
   "outputs": [
    {
     "name": "stdout",
     "output_type": "stream",
     "text": [
      "Yay, sun is visible! :3\n",
      "Alt = 58.86048 deg\n",
      "Az = 245.61688 deg\n",
      "\n",
      "\n",
      "Yay, mercury is visible! :3\n",
      "Alt = 56.86712 deg\n",
      "Az = 252.45421 deg\n",
      "\n",
      "\n",
      "Yay, venus is visible! :3\n",
      "Alt = 18.95864 deg\n",
      "Az = 277.48688 deg\n",
      "\n",
      "\n",
      "Yay, moon is visible! :3\n",
      "Alt = 58.83521 deg\n",
      "Az = 245.59873 deg\n",
      "\n",
      "\n",
      "Yay, mars is visible! :3\n",
      "Alt = 65.43377 deg\n",
      "Az = 227.61039 deg\n",
      "\n",
      "\n",
      "Nooo, jupiter is NOT visible! :c\n",
      "Alt = -69.75616 deg\n",
      "Az = 19.78085 deg\n",
      "\n",
      "\n",
      "Nooo, saturn is NOT visible! :c\n",
      "Alt = -16.21534 deg\n",
      "Az = 102.01749 deg\n",
      "\n",
      "\n",
      "Nooo, uranus is NOT visible! :c\n",
      "Alt = -67.26476 deg\n",
      "Az = 355.22901 deg\n",
      "\n",
      "\n",
      "Nooo, neptune is NOT visible! :c\n",
      "Alt = -38.59744 deg\n",
      "Az = 90.03371 deg\n",
      "\n",
      "\n"
     ]
    }
   ],
   "source": [
    "from astropy import units as u\n",
    "from astropy.time import Time, TimezoneInfo\n",
    "from astropy.coordinates import solar_system_ephemeris, EarthLocation, get_body, AltAz\n",
    "\n",
    "\n",
    "def verify_is_visible(planet):\n",
    "    tolerance = 4*u.deg\n",
    "    alt = planet.alt\n",
    "    if alt >= tolerance:\n",
    "        return True\n",
    "    else:\n",
    "        return False\n",
    "\n",
    "\n",
    "def print_visibles():\n",
    "    for planet in bodies_dict:\n",
    "        planet_info = bodies_dict[planet]\n",
    "        is_visible = verify_is_visible(planet_info)\n",
    "        alt = planet_info.alt\n",
    "        az = planet_info.az\n",
    "        \n",
    "        if is_visible:    \n",
    "            print(f'Yay, {planet} is visible! :3')\n",
    "            print(f'Alt = {alt:.5f}')\n",
    "            print(f'Az = {az:.5f}')\n",
    "            print(\"\\n\")\n",
    "        else:\n",
    "            print(f'Nooo, {planet} is NOT visible! :c')\n",
    "            print(f'Alt = {alt:.5f}')\n",
    "            print(f'Az = {az:.5f}')\n",
    "            print(\"\\n\")\n",
    "\n",
    "\n",
    "\n",
    "## Usar Jet Propulsion Laboratory\n",
    "solar_system_ephemeris.set('jpl')\n",
    "\n",
    "\n",
    "## Cuerpos a estudiar. AltAz\n",
    "bodies = ('sun', 'mercury', 'venus', 'moon', 'mars', 'jupiter', 'saturn', 'uranus', 'neptune')\n",
    "bodies_dict = {key:0 for key in bodies}\n",
    "\n",
    "\n",
    "## Condiciones de observacion locales\n",
    "local_datetime_str = \"2023-10-14 13:36\"  \n",
    "local_gmt = -5*u.hour # zona horario\n",
    "observation_pos = EarthLocation.from_geodetic(lon=-74.08334, lat=4.63972, height=2555) # Coordenadas de observacion\n",
    "\n",
    "\n",
    "observation_time = Time(local_datetime_str, scale='utc') - local_gmt # Tiempo de observacion\n",
    "observation_time_aux = Time(local_datetime_str, location=observation_pos, scale='utc') - local_gmt\n",
    "for planet in bodies_dict:\n",
    "    body = get_body(planet, observation_time, location=None) ## None implies Geocentric observer\n",
    "    body = body.transform_to(AltAz(obstime = observation_time, location = observation_pos))\n",
    "    bodies_dict[planet] = body\n",
    "    \n",
    "print_visibles()"
   ]
  }
 ],
 "metadata": {
  "kernelspec": {
   "display_name": "Python 3 (ipykernel)",
   "language": "python",
   "name": "python3"
  },
  "language_info": {
   "codemirror_mode": {
    "name": "ipython",
    "version": 3
   },
   "file_extension": ".py",
   "mimetype": "text/x-python",
   "name": "python",
   "nbconvert_exporter": "python",
   "pygments_lexer": "ipython3",
   "version": "3.10.8"
  }
 },
 "nbformat": 4,
 "nbformat_minor": 5
}
