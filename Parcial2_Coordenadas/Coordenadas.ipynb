{
 "cells": [
  {
   "cell_type": "markdown",
   "id": "6f1415ba",
   "metadata": {},
   "source": [
    "LST: https://sidereal.app/calculate\n",
    "\n",
    "Elevation: https://www.geonames.org/maps/google_4.63972_-74.08335.html"
   ]
  },
  {
   "cell_type": "code",
   "execution_count": 138,
   "id": "b70dea3f",
   "metadata": {
    "ExecuteTime": {
     "end_time": "2023-09-30T02:57:42.119862Z",
     "start_time": "2023-09-30T02:57:42.053057Z"
    }
   },
   "outputs": [],
   "source": [
    "from astropy.time import Time, TimezoneInfo\n",
    "from astropy.coordinates import solar_system_ephemeris, EarthLocation, get_body, AltAz\n",
    "\n",
    "\n",
    "def transform_to_local_hour(time, gmt_local):\n",
    "    gmt_local = TimezoneInfo(gmt_local * u.hour)\n",
    "    new_time = time.to_datetime(timezone=gmt_local)\n",
    "    return new_time\n",
    "\n",
    "\n",
    "## Usar Jet Propulsion Laboratory\n",
    "solar_system_ephemeris.set('jpl')\n",
    "\n",
    "\n",
    "## Cuerpos a estudiar. AltAz\n",
    "bodies = ('sun', 'mercury', 'venus', 'moon', 'mars', 'jupiter', 'saturn', 'uranus', 'neptune')\n",
    "bodies_dict = {key:0 for key in bodies}\n",
    "\n",
    "\n",
    "## Condiciones de observacion locales\n",
    "local_datetime_str = \"2023-10-14 13:36\"  \n",
    "local_gmt = -5*u.hour # zona horario\n",
    "observation_pos = EarthLocation.from_geodetic(lon=-74.08334, lat=4.63972, height=2555) # Coordenadas de observacion\n",
    "\n",
    "\n",
    "observation_time = Time(local_datetime_str, scale='utc') - local_gmt # Tiempo de observacion\n",
    "observation_time_aux = Time(local_datetime_str, location=observation_pos, scale='utc') - local_gmt\n",
    "for planet in bodies_dict:\n",
    "    body = get_body(planet, observation_time, location=None) ## None implies Geocentric observer\n",
    "    body = body.transform_to(AltAz(obstime = observation_time, location = observation_pos))\n",
    "    bodies_dict[planet] = body\n",
    "    \n",
    "\n"
   ]
  },
  {
   "cell_type": "code",
   "execution_count": 142,
   "id": "dc2c0cee",
   "metadata": {},
   "outputs": [
    {
     "data": {
      "text/plain": [
       "<SkyCoord (AltAz: obstime=2023-10-14 18:36:00.000, location=(1744137.7159849, -6116092.79924702, 512691.05770848) m, pressure=0.0 hPa, temperature=0.0 deg_C, relative_humidity=0.0, obswl=1.0 micron): (az, alt, distance) in (deg, deg, km)\n",
       "    (102.01749149, -16.21533856, 1.36022701e+09)>"
      ]
     },
     "execution_count": 142,
     "metadata": {},
     "output_type": "execute_result"
    }
   ],
   "source": [
    "xd = bodies_dict['saturn']\n",
    "xd = xd.transform_to(AltAz(obstime = observation_time, location = observation_pos))\n",
    "xd"
   ]
  },
  {
   "cell_type": "code",
   "execution_count": 140,
   "id": "d3335b8a",
   "metadata": {
    "ExecuteTime": {
     "end_time": "2023-09-30T02:57:30.271482Z",
     "start_time": "2023-09-30T02:57:30.268099Z"
    }
   },
   "outputs": [
    {
     "name": "stdout",
     "output_type": "stream",
     "text": [
      "sun \t <SkyCoord (AltAz: obstime=2023-10-14 18:36:00.000, location=(1744137.7159849, -6116092.79924702, 512691.05770848) m, pressure=0.0 hPa, temperature=0.0 deg_C, relative_humidity=0.0, obswl=1.0 micron): (az, alt, distance) in (deg, deg, km)\n",
      "    (245.61688177, 58.86047633, 1.4921837e+08)> \n",
      "\n",
      "\n",
      "mercury \t <SkyCoord (AltAz: obstime=2023-10-14 18:36:00.000, location=(1744137.7159849, -6116092.79924702, 512691.05770848) m, pressure=0.0 hPa, temperature=0.0 deg_C, relative_humidity=0.0, obswl=1.0 micron): (az, alt, distance) in (deg, deg, km)\n",
      "    (252.45421256, 56.86711986, 2.07342511e+08)> \n",
      "\n",
      "\n",
      "venus \t <SkyCoord (AltAz: obstime=2023-10-14 18:36:00.000, location=(1744137.7159849, -6116092.79924702, 512691.05770848) m, pressure=0.0 hPa, temperature=0.0 deg_C, relative_humidity=0.0, obswl=1.0 micron): (az, alt, distance) in (deg, deg, km)\n",
      "    (277.48688101, 18.95863892, 93486079.55737653)> \n",
      "\n",
      "\n",
      "moon \t <SkyCoord (AltAz: obstime=2023-10-14 18:36:00.000, location=(1744137.7159849, -6116092.79924702, 512691.05770848) m, pressure=0.0 hPa, temperature=0.0 deg_C, relative_humidity=0.0, obswl=1.0 micron): (az, alt, distance) in (deg, deg, km)\n",
      "    (245.59872782, 58.83520742, 391467.09647287)> \n",
      "\n",
      "\n",
      "mars \t <SkyCoord (AltAz: obstime=2023-10-14 18:36:00.000, location=(1744137.7159849, -6116092.79924702, 512691.05770848) m, pressure=0.0 hPa, temperature=0.0 deg_C, relative_humidity=0.0, obswl=1.0 micron): (az, alt, distance) in (deg, deg, km)\n",
      "    (227.61039257, 65.43376749, 3.81383091e+08)> \n",
      "\n",
      "\n",
      "jupiter \t <SkyCoord (AltAz: obstime=2023-10-14 18:36:00.000, location=(1744137.7159849, -6116092.79924702, 512691.05770848) m, pressure=0.0 hPa, temperature=0.0 deg_C, relative_humidity=0.0, obswl=1.0 micron): (az, alt, distance) in (deg, deg, km)\n",
      "    (19.78084929, -69.75615644, 6.03200577e+08)> \n",
      "\n",
      "\n",
      "saturn \t <SkyCoord (AltAz: obstime=2023-10-14 18:36:00.000, location=(1744137.7159849, -6116092.79924702, 512691.05770848) m, pressure=0.0 hPa, temperature=0.0 deg_C, relative_humidity=0.0, obswl=1.0 micron): (az, alt, distance) in (deg, deg, km)\n",
      "    (102.01749149, -16.21533856, 1.36022701e+09)> \n",
      "\n",
      "\n",
      "uranus \t <SkyCoord (AltAz: obstime=2023-10-14 18:36:00.000, location=(1744137.7159849, -6116092.79924702, 512691.05770848) m, pressure=0.0 hPa, temperature=0.0 deg_C, relative_humidity=0.0, obswl=1.0 micron): (az, alt, distance) in (deg, deg, km)\n",
      "    (355.22900925, -67.26476233, 2.80715873e+09)> \n",
      "\n",
      "\n",
      "neptune \t <SkyCoord (AltAz: obstime=2023-10-14 18:36:00.000, location=(1744137.7159849, -6116092.79924702, 512691.05770848) m, pressure=0.0 hPa, temperature=0.0 deg_C, relative_humidity=0.0, obswl=1.0 micron): (az, alt, distance) in (deg, deg, km)\n",
      "    (90.03371322, -38.59744337, 4.33878902e+09)> \n",
      "\n",
      "\n"
     ]
    }
   ],
   "source": [
    "for planet in bodies_dict:\n",
    "    xd = bodies_dict[planet]\n",
    "    print(planet, \"\\t\", xd, \"\\n\\n\")"
   ]
  },
  {
   "cell_type": "code",
   "execution_count": 109,
   "id": "ac61aed3",
   "metadata": {
    "ExecuteTime": {
     "end_time": "2023-09-30T02:45:00.491741Z",
     "start_time": "2023-09-30T02:45:00.483158Z"
    }
   },
   "outputs": [],
   "source": [
    "from astropy.coordinates import EarthLocation\n",
    "from astropy.time import Time\n",
    "from astropy import units as u\n",
    "import datetime\n",
    "\n",
    "observing_time = Time(datetime.datetime.utcnow(), scale='utc', location=observation_pos)\n",
    "LST = observing_time.sidereal_time('mean')"
   ]
  }
 ],
 "metadata": {
  "kernelspec": {
   "display_name": "Python 3 (ipykernel)",
   "language": "python",
   "name": "python3"
  },
  "language_info": {
   "codemirror_mode": {
    "name": "ipython",
    "version": 3
   },
   "file_extension": ".py",
   "mimetype": "text/x-python",
   "name": "python",
   "nbconvert_exporter": "python",
   "pygments_lexer": "ipython3",
   "version": "3.10.8"
  }
 },
 "nbformat": 4,
 "nbformat_minor": 5
}
