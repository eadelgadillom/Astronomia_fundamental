{
 "cells": [
  {
   "cell_type": "code",
   "execution_count": 138,
   "metadata": {},
   "outputs": [
    {
     "name": "stdout",
     "output_type": "stream",
     "text": [
      "-3.111477633229183 rad\n"
     ]
    },
    {
     "data": {
      "text/latex": [
       "$1.0656056 \\; \\mathrm{km}$"
      ],
      "text/plain": [
       "<Quantity 1.06560559 km>"
      ]
     },
     "execution_count": 138,
     "metadata": {},
     "output_type": "execute_result"
    }
   ],
   "source": [
    "import numpy as np\n",
    "from astropy.io import ascii\n",
    "from scipy.optimize import root_scalar\n",
    "from astropy import units as u\n",
    "from astropy import constants as const\n",
    "from astropy.time import Time\n",
    "import matplotlib.pyplot as plt\n",
    "\n",
    "# Simbolos y constantes \n",
    "\"\"\"\n",
    "a = semieje mayor\n",
    "e = excentricidad\n",
    "omega = longitud del nodo ascendente\n",
    "w = argumento del pericentro\n",
    "i = inclinacion de la orbita\n",
    "n = movimiento medio\n",
    "lo = anomalia media en la epoca\n",
    "tp = tiempo del perihelio\n",
    "to = tiempo de la epoca\n",
    "M = la suma de las masas de los cuerpos\n",
    "\"\"\"\n",
    "\n",
    "\n",
    "# Efemerides Tierra\n",
    "a_tierra = (1.495582533630905E+8*u.km).to('au')\n",
    "ecc_tierra = 1.694863932474438E-02\n",
    "omega_tierra = 1.498625963929686E+02*u.deg\n",
    "w_tierra = 3.146587763491455E+02*u.deg\n",
    "i_tierra = 4.164075603038432E-03*u.deg \n",
    "n_tierra = 1.141204629731537E-05*u.deg/u.s\n",
    "l0_tierra = 1.817846947871890E+02*u.deg\n",
    "\n",
    "#Transformacion de unidades\n",
    "i_tierra = i_tierra.to('rad')\n",
    "omega_tierra = omega_tierra.to('rad')\n",
    "w_tierra = w_tierra.to('rad')\n",
    "n_tierra = n_tierra.to('rad/s')\n",
    "l0_tierra = l0_tierra.to('rad')\n",
    "\n",
    "\n",
    "# Ecuacion de kepler\n",
    "def Kepler(E, l, ecc):\n",
    "    f = E - ecc*np.sin(E) - l\n",
    "    fprime = 1 - ecc*np.cos(E)\n",
    "    return f, fprime\n",
    "\n",
    "\n",
    "def iota(t, l0, n, t0,):\n",
    "    return (l0 + n*(t-t0))\n",
    "\n",
    "\n",
    "def find_f(e, E):\n",
    "    root_term = np.sqrt( ((1+e)/(1-e)) )\n",
    "    right_side = root_term*np.tan(E/2)\n",
    "    f = 2*np.arctan(right_side)\n",
    "    return f\n",
    "\n",
    "\n",
    "def find_phi(f, w):\n",
    "    return f+w\n",
    "\n",
    "\n",
    "def find_r(a, ecc, E):\n",
    "    return a*(1 - ecc*np.cos(E))\n",
    "\n",
    "\n",
    "def find_xyz ()\n",
    "\n",
    "\n",
    "# Orbita de la tierra\n",
    "t0 = Time('2023-07-09T00:00:00', scale='tdb', format = 'isot')\n",
    "t0 = t0.utc\n",
    "\n",
    "# Provisional\n",
    "t = Time('2023-07-09T00:00:00', scale='tdb', format = 'isot')\n",
    "t = t.utc\n",
    "\n",
    "## 1. Hallar iota\n",
    "iota_tierra = iota(t, l0_tierra, n_tierra, t0)\n",
    "\n",
    "\n",
    "## 2. Solucionar la Ec. de Kepler\n",
    "# E_raiz_tierra = root_scalar(Kepler, args=(iota_tierra.value, ecc_tierra), bracket=[0, iota_tierra.value], method=\"brentq\")\n",
    "E_raiz_tierra = root_scalar(Kepler, args=(iota_tierra.value, ecc_tierra), fprime = True, x0 = 0, xtol = 1E-8).root*u.rad\n",
    "\n",
    "\n",
    "## 3. Hallar f\n",
    "f_tierra = find_f(ecc_tierra, E_raiz_tierra)\n",
    "print(f_tierra)\n",
    "\n",
    "\n",
    "## 4. Hallar phi\n",
    "phi_tierra = find_phi(f_tierra, w_tierra)\n",
    "\n",
    "\n",
    "## 5. Hallar r\n",
    "r_tierra = find_r(a_tierra, ecc_tierra, E_raiz_tierra)\n",
    "\n",
    "\n",
    "\n"
   ]
  },
  {
   "cell_type": "code",
   "execution_count": null,
   "metadata": {},
   "outputs": [],
   "source": [
    "(r_tierra - 1.01667137050578*u.AU).to(\"km\")"
   ]
  }
 ],
 "metadata": {
  "kernelspec": {
   "display_name": "Python 3 (ipykernel)",
   "language": "python",
   "name": "python3"
  },
  "language_info": {
   "codemirror_mode": {
    "name": "ipython",
    "version": 3
   },
   "file_extension": ".py",
   "mimetype": "text/x-python",
   "name": "python",
   "nbconvert_exporter": "python",
   "pygments_lexer": "ipython3",
   "version": "3.10.8"
  },
  "orig_nbformat": 4
 },
 "nbformat": 4,
 "nbformat_minor": 2
}
