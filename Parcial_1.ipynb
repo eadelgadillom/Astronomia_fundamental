{
 "cells": [
  {
   "cell_type": "code",
   "execution_count": 2,
   "metadata": {},
   "outputs": [
    {
     "name": "stdout",
     "output_type": "stream",
     "text": [
      "Collecting astropy\n",
      "  Obtaining dependency information for astropy from https://files.pythonhosted.org/packages/8c/4d/67c092bf54ed3be87fbe3dc4f5589ea56a23757594e221be5afb0d67b99e/astropy-5.3.2-cp310-cp310-manylinux_2_5_x86_64.manylinux1_x86_64.manylinux_2_12_x86_64.manylinux2010_x86_64.whl.metadata\n",
      "  Downloading astropy-5.3.2-cp310-cp310-manylinux_2_5_x86_64.manylinux1_x86_64.manylinux_2_12_x86_64.manylinux2010_x86_64.whl.metadata (9.4 kB)\n",
      "Requirement already satisfied: numpy>=1.21 in /home/codespace/.local/lib/python3.10/site-packages (from astropy) (1.25.2)\n",
      "Collecting pyerfa>=2.0 (from astropy)\n",
      "  Downloading pyerfa-2.0.0.3-cp310-cp310-manylinux_2_17_x86_64.manylinux2014_x86_64.whl (741 kB)\n",
      "\u001b[2K     \u001b[90m━━━━━━━━━━━━━━━━━━━━━━━━━━━━━━━━━━━━━━\u001b[0m \u001b[32m741.4/741.4 kB\u001b[0m \u001b[31m15.0 MB/s\u001b[0m eta \u001b[36m0:00:00\u001b[0m00:01\u001b[0m\n",
      "\u001b[?25hRequirement already satisfied: PyYAML>=3.13 in /home/codespace/.local/lib/python3.10/site-packages (from astropy) (6.0.1)\n",
      "Requirement already satisfied: packaging>=19.0 in /home/codespace/.local/lib/python3.10/site-packages (from astropy) (23.1)\n",
      "Downloading astropy-5.3.2-cp310-cp310-manylinux_2_5_x86_64.manylinux1_x86_64.manylinux_2_12_x86_64.manylinux2010_x86_64.whl (10.1 MB)\n",
      "\u001b[2K   \u001b[90m━━━━━━━━━━━━━━━━━━━━━━━━━━━━━━━━━━━━━━━━\u001b[0m \u001b[32m10.1/10.1 MB\u001b[0m \u001b[31m50.3 MB/s\u001b[0m eta \u001b[36m0:00:00\u001b[0m:00:01\u001b[0m0:01\u001b[0m\n",
      "\u001b[?25hInstalling collected packages: pyerfa, astropy\n",
      "Successfully installed astropy-5.3.2 pyerfa-2.0.0.3\n",
      "Note: you may need to restart the kernel to use updated packages.\n"
     ]
    }
   ],
   "source": [
    "%pip install astropy"
   ]
  },
  {
   "cell_type": "code",
   "execution_count": 4,
   "metadata": {},
   "outputs": [
    {
     "data": {
      "text/latex": [
       "$7.267683 \\times 10^{-5} \\; \\mathrm{rad}$"
      ],
      "text/plain": [
       "<Quantity 7.26768296e-05 rad>"
      ]
     },
     "execution_count": 4,
     "metadata": {},
     "output_type": "execute_result"
    }
   ],
   "source": [
    "import numpy as np\n",
    "from astropy.io import ascii\n",
    "from scipy.optimize import root_scalar\n",
    "from astropy import units as u\n",
    "from astropy import constants as const\n",
    "from astropy.time import Time\n",
    "import matplotlib.pyplot as plt\n",
    "#ecuacion de kepler\n",
    "def Kepler(E,l,ecc):\n",
    "    f = E - ecc*np.sin(E)-l\n",
    "    return f\n",
    "\n",
    "#a = semieje mayor, e= excentricidad, omega= longitud del nodo ascendente, w = argumento del pericentro, \n",
    "#i = inclinacion de la orbita, n = movimiento medio, lo = anomalia media en la epoca, tp = tiempo a calcular \n",
    "#to = tiempo de la epoca, M = la suma de las masas de los cuerpos\n",
    "\n",
    "#Orbita de la tierra\n",
    "#Epoca\n",
    "to = Time('2023-07-09T00:00:00', scale='tdb', format = 'isot')\n",
    "#to = to.utc\n",
    "\n",
    "#Efemerides Tierra\n",
    "a = (1.495582533630905E+8*u.km).to('au')\n",
    "ecc = 1.694863932474438E-02\n",
    "omega = 1.498625963929686E+02*u.deg\n",
    "w = 3.146587763491455E+02*u.deg\n",
    "iota = 4.164075603038432E-03*u.deg \n",
    "n = 1.141204629731537E-05*u.deg/u.s\n",
    "lo = 1.817846947871890E+02*u.deg\n",
    "\n",
    "#Transformacion de unidades\n",
    "iota = iota.to('rad')\n",
    "omega = omega.to('rad')\n",
    "w = w.to('rad')\n",
    "n = n.to('rad/s')\n",
    "lo = lo.to('rad')\n",
    "\n",
    "#\n",
    "\n",
    "\n",
    "\n"
   ]
  }
 ],
 "metadata": {
  "kernelspec": {
   "display_name": "Python 3",
   "language": "python",
   "name": "python3"
  },
  "language_info": {
   "codemirror_mode": {
    "name": "ipython",
    "version": 3
   },
   "file_extension": ".py",
   "mimetype": "text/x-python",
   "name": "python",
   "nbconvert_exporter": "python",
   "pygments_lexer": "ipython3",
   "version": "3.10.8"
  },
  "orig_nbformat": 4
 },
 "nbformat": 4,
 "nbformat_minor": 2
}
