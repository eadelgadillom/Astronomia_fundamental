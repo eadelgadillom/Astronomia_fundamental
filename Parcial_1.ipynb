{
 "cells": [
  {
   "cell_type": "code",
   "execution_count": 36,
   "metadata": {},
   "outputs": [
    {
     "ename": "TypeError",
     "evalue": "root_scalar.<locals>.fprime() takes 1 positional argument but 3 were given",
     "output_type": "error",
     "traceback": [
      "\u001b[0;31m---------------------------------------------------------------------------\u001b[0m",
      "\u001b[0;31mTypeError\u001b[0m                                 Traceback (most recent call last)",
      "Cell \u001b[0;32mIn[36], line 63\u001b[0m\n\u001b[1;32m     59\u001b[0m iota_tierra \u001b[39m=\u001b[39m iota(t, l0_tierra, n_tierra, t0)\n\u001b[1;32m     62\u001b[0m \u001b[39m# Solucionar la Ec. de Kepler\u001b[39;00m\n\u001b[0;32m---> 63\u001b[0m E_raiz_tierra \u001b[39m=\u001b[39m root_scalar(Kepler, args\u001b[39m=\u001b[39;49m(iota_tierra, ecc_tierra), x0 \u001b[39m=\u001b[39;49m \u001b[39m0\u001b[39;49m)\n",
      "File \u001b[0;32m~/.local/lib/python3.10/site-packages/scipy/optimize/_root_scalar.py:315\u001b[0m, in \u001b[0;36mroot_scalar\u001b[0;34m(f, args, method, bracket, fprime, fprime2, x0, x1, xtol, rtol, maxiter, options)\u001b[0m\n\u001b[1;32m    313\u001b[0m     \u001b[39mif\u001b[39;00m \u001b[39m'\u001b[39m\u001b[39mxtol\u001b[39m\u001b[39m'\u001b[39m \u001b[39min\u001b[39;00m kwargs:\n\u001b[1;32m    314\u001b[0m         kwargs[\u001b[39m'\u001b[39m\u001b[39mtol\u001b[39m\u001b[39m'\u001b[39m] \u001b[39m=\u001b[39m kwargs\u001b[39m.\u001b[39mpop(\u001b[39m'\u001b[39m\u001b[39mxtol\u001b[39m\u001b[39m'\u001b[39m)\n\u001b[0;32m--> 315\u001b[0m     r, sol \u001b[39m=\u001b[39m methodc(f, x0, args\u001b[39m=\u001b[39;49margs, fprime\u001b[39m=\u001b[39;49mfprime, fprime2\u001b[39m=\u001b[39;49m\u001b[39mNone\u001b[39;49;00m,\n\u001b[1;32m    316\u001b[0m                      \u001b[39m*\u001b[39;49m\u001b[39m*\u001b[39;49mkwargs)\n\u001b[1;32m    317\u001b[0m \u001b[39melif\u001b[39;00m meth \u001b[39min\u001b[39;00m [\u001b[39m'\u001b[39m\u001b[39mhalley\u001b[39m\u001b[39m'\u001b[39m]:\n\u001b[1;32m    318\u001b[0m     \u001b[39mif\u001b[39;00m x0 \u001b[39mis\u001b[39;00m \u001b[39mNone\u001b[39;00m:\n",
      "File \u001b[0;32m~/.local/lib/python3.10/site-packages/scipy/optimize/_zeros_py.py:306\u001b[0m, in \u001b[0;36mnewton\u001b[0;34m(func, x0, fprime, args, tol, maxiter, fprime2, x1, rtol, full_output, disp)\u001b[0m\n\u001b[1;32m    303\u001b[0m \u001b[39mif\u001b[39;00m fval \u001b[39m==\u001b[39m \u001b[39m0\u001b[39m:\n\u001b[1;32m    304\u001b[0m     \u001b[39mreturn\u001b[39;00m _results_select(\n\u001b[1;32m    305\u001b[0m         full_output, (p0, funcalls, itr, _ECONVERGED))\n\u001b[0;32m--> 306\u001b[0m fder \u001b[39m=\u001b[39m fprime(p0, \u001b[39m*\u001b[39;49margs)\n\u001b[1;32m    307\u001b[0m funcalls \u001b[39m+\u001b[39m\u001b[39m=\u001b[39m \u001b[39m1\u001b[39m\n\u001b[1;32m    308\u001b[0m \u001b[39mif\u001b[39;00m fder \u001b[39m==\u001b[39m \u001b[39m0\u001b[39m:\n",
      "\u001b[0;31mTypeError\u001b[0m: root_scalar.<locals>.fprime() takes 1 positional argument but 3 were given"
     ]
    }
   ],
   "source": [
    "import numpy as np\n",
    "from astropy.io import ascii\n",
    "from scipy.optimize import root_scalar\n",
    "from astropy import units as u\n",
    "from astropy import constants as const\n",
    "from astropy.time import Time\n",
    "import matplotlib.pyplot as plt\n",
    "\n",
    "# Simbolos y constantes \n",
    "\"\"\"\n",
    "a = semieje mayor\n",
    "e = excentricidad\n",
    "omega = longitud del nodo ascendente\n",
    "w = argumento del pericentro\n",
    "i = inclinacion de la orbita\n",
    "n = movimiento medio\n",
    "lo = anomalia media en la epoca\n",
    "tp = tiempo del perihelio\n",
    "to = tiempo de la epoca\n",
    "M = la suma de las masas de los cuerpos\n",
    "\"\"\"\n",
    "\n",
    "\n",
    "# Efemerides Tierra\n",
    "a_tierra = (1.495582533630905E+8*u.km).to('au')\n",
    "ecc_tierra = 1.694863932474438E-02\n",
    "omega_tierra = 1.498625963929686E+02*u.deg\n",
    "w_tierra = 3.146587763491455E+02*u.deg\n",
    "i_tierra = 4.164075603038432E-03*u.deg \n",
    "n_tierra = 1.141204629731537E-05*u.deg/u.s\n",
    "l0_tierra = 1.817846947871890E+02*u.deg\n",
    "\n",
    "#Transformacion de unidades\n",
    "i_tierra = i_tierra.to('rad')\n",
    "omega_tierra = omega_tierra.to('rad')\n",
    "w_tierra = w_tierra.to('rad')\n",
    "n_tierra = n_tierra.to('rad/s')\n",
    "l0_tierra = l0_tierra.to('rad')\n",
    "\n",
    "\n",
    "# Ecuacion de kepler\n",
    "def Kepler(E, l, ecc):\n",
    "    f = E - ecc*np.sin(E) - l\n",
    "    return f\n",
    "\n",
    "\n",
    "def iota(t, l0, n, t0,):\n",
    "    return (l0 + n*(t-t0))\n",
    "\n",
    "\n",
    "# Orbita de la tierra\n",
    "t0 = Time('2023-07-09T00:00:00', scale='tdb', format = 'isot')\n",
    "#to = to.utc\n",
    "\n",
    "# Provisional\n",
    "t = Time('2023-07-10T00:00:00', scale='tdb', format = 'isot')\n",
    "\n",
    "# Hallar iota\n",
    "iota_tierra = iota(t, l0_tierra, n_tierra, t0)\n",
    "\n",
    "\n",
    "# Solucionar la Ec. de Kepler\n",
    "E_raiz_tierra = root_scalar(Kepler, args=(iota_tierra, ecc_tierra), x0 = 0)\n",
    "\n",
    "\n"
   ]
  }
 ],
 "metadata": {
  "kernelspec": {
   "display_name": "Python 3 (ipykernel)",
   "language": "python",
   "name": "python3"
  },
  "language_info": {
   "codemirror_mode": {
    "name": "ipython",
    "version": 3
   },
   "file_extension": ".py",
   "mimetype": "text/x-python",
   "name": "python",
   "nbconvert_exporter": "python",
   "pygments_lexer": "ipython3",
   "version": "3.10.8"
  },
  "orig_nbformat": 4
 },
 "nbformat": 4,
 "nbformat_minor": 2
}
