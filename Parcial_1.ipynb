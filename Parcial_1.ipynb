{
 "cells": [
  {
   "cell_type": "code",
   "execution_count": 3,
   "metadata": {},
   "outputs": [],
   "source": [
    "import numpy as np\n",
    "from astropy.io import ascii\n",
    "from scipy.optimize import root_scalar\n",
    "from astropy import units as u\n",
    "from astropy import constants as const\n",
    "from astropy.time import Time\n",
    "import matplotlib.pyplot as plt\n",
    "#ecuacion de kepler\n",
    "def Kepler(E,l,ecc):\n",
    "    f = E - ecc*np.sin(E)-l\n",
    "    return f\n",
    "\n",
    "#a = semieje mayor, e= excentricidad, omega= longitud del nodo ascendente, w = argumento del pericentro, \n",
    "#i = inclinacion de la orbita, n = movimiento medio, lo = anomalia media en la epoca, tp = tiempo a calcular \n",
    "#to = tiempo de la epoca, M = la suma de las masas de los cuerpos\n",
    "\n",
    "#Orbita de la tierra\n",
    "#Epoca\n",
    "to = Time('2023-07-09T00:00:00', scale='tdb', format = 'isot')\n",
    "#to = to.utc\n",
    "\n",
    "#Efemerides Tierra\n",
    "a = (1.495582533630905E+8*u.km).to('au')\n",
    "ecc = 1.694863932474438E-02\n",
    "omega = 1.498625963929686E+02*u.deg\n",
    "w = 3.146587763491455E+02*u.deg\n",
    "iota = 4.164075603038432E-03*u.deg \n",
    "n = 1.141204629731537E-05*u.deg/u.s\n",
    "lo = 1.817846947871890E+02*u.deg\n",
    "\n",
    "#Transformacion de unidades\n",
    "iota = iota.to('rad')\n",
    "omega = omega.to('rad')\n",
    "w = w.to('rad')\n",
    "n = n.to('rad/s')\n",
    "lo = lo.to('rad')\n",
    "\n",
    "\n",
    "print(\"xd\")\n",
    "\n",
    "\n",
    "\n"
   ]
  }
 ],
 "metadata": {
  "kernelspec": {
   "display_name": "Python 3 (ipykernel)",
   "language": "python",
   "name": "python3"
  },
  "language_info": {
   "codemirror_mode": {
    "name": "ipython",
    "version": 3
   },
   "file_extension": ".py",
   "mimetype": "text/x-python",
   "name": "python",
   "nbconvert_exporter": "python",
   "pygments_lexer": "ipython3",
   "version": "3.10.8"
  },
  "orig_nbformat": 4
 },
 "nbformat": 4,
 "nbformat_minor": 2
}
